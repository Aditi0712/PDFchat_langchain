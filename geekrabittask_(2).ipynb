{
  "nbformat": 4,
  "nbformat_minor": 0,
  "metadata": {
    "colab": {
      "provenance": [],
      "gpuType": "T4",
      "include_colab_link": true
    },
    "kernelspec": {
      "name": "python3",
      "display_name": "Python 3"
    },
    "language_info": {
      "name": "python"
    },
    "accelerator": "GPU"
  },
  "cells": [
    {
      "cell_type": "markdown",
      "metadata": {
        "id": "view-in-github",
        "colab_type": "text"
      },
      "source": [
        "<a href=\"https://colab.research.google.com/github/Aditi0712/PDFchat_langchain/blob/main/geekrabittask_(2).ipynb\" target=\"_parent\"><img src=\"https://colab.research.google.com/assets/colab-badge.svg\" alt=\"Open In Colab\"/></a>"
      ]
    },
    {
      "cell_type": "markdown",
      "source": [
        "# Insurance Question Answering System Using LangChain and Open Source LLMs"
      ],
      "metadata": {
        "id": "wM69Jx8sTlQH"
      }
    },
    {
      "cell_type": "markdown",
      "source": [
        "Created By: Aditi Sharma\n",
        "\n",
        "\n",
        "\n",
        "\n"
      ],
      "metadata": {
        "id": "wu11kxKzTk9l"
      }
    },
    {
      "cell_type": "markdown",
      "source": [
        "Step 1: Installing the required Libraries"
      ],
      "metadata": {
        "id": "GqeJNQiTTkgv"
      }
    },
    {
      "cell_type": "code",
      "source": [
        "!pip install -q accelerate einops bitsandbytes kaleido openai python-multipart tiktoken cohere langchain pypdf faiss-cpu torch chromadb transformers sentence-transformers"
      ],
      "metadata": {
        "id": "90vd0RFQBDjP"
      },
      "execution_count": 64,
      "outputs": []
    },
    {
      "cell_type": "code",
      "source": [
        "!pip install -q --upgrade tensorflow"
      ],
      "metadata": {
        "id": "WSkTXs3Lr3yJ"
      },
      "execution_count": 65,
      "outputs": []
    },
    {
      "cell_type": "markdown",
      "source": [
        "Step 2: Importing the required modules"
      ],
      "metadata": {
        "id": "UpjUIdPXUVYy"
      }
    },
    {
      "cell_type": "code",
      "source": [
        "from langchain_community.document_loaders import PyPDFLoader\n",
        "import transformers\n",
        "from langchain.text_splitter import CharacterTextSplitter\n",
        "from langchain.vectorstores import FAISS\n",
        "from langchain_community.embeddings.sentence_transformer import (\n",
        "    SentenceTransformerEmbeddings,\n",
        ")\n",
        "from langchain_community.vectorstores import Chroma\n",
        "import torch\n",
        "from langchain import HuggingFaceHub\n",
        "from langchain.chains.question_answering import load_qa_chain"
      ],
      "metadata": {
        "id": "1CGmuH3KHRYv"
      },
      "execution_count": 165,
      "outputs": []
    },
    {
      "cell_type": "markdown",
      "source": [
        "Step 3: PDF Ingestion using langchain's PyPDFLoader"
      ],
      "metadata": {
        "id": "78GDHwUrUaVV"
      }
    },
    {
      "cell_type": "code",
      "source": [
        "loader = PyPDFLoader(\"/content/insurance-industry-in-canada.pdf\")\n",
        "documents=loader.load()"
      ],
      "metadata": {
        "id": "71nl5-TpLj9m"
      },
      "execution_count": 68,
      "outputs": []
    },
    {
      "cell_type": "markdown",
      "source": [
        "Step 4: Document Preparation by splitting into manageable chunks"
      ],
      "metadata": {
        "id": "AewfgKeNUrxn"
      }
    },
    {
      "cell_type": "code",
      "source": [
        "text_splitter=CharacterTextSplitter(\n",
        "    separator='\\n',\n",
        "    chunk_size=1000,\n",
        "    chunk_overlap=200,\n",
        ")\n",
        "texts=text_splitter.split_documents(documents)"
      ],
      "metadata": {
        "id": "jNELTCAZMOkm"
      },
      "execution_count": 69,
      "outputs": []
    },
    {
      "cell_type": "markdown",
      "source": [
        "Step 4: Creating embeddings"
      ],
      "metadata": {
        "id": "msCIee40U2sz"
      }
    },
    {
      "cell_type": "code",
      "source": [
        "embeddings = SentenceTransformerEmbeddings(model_name=\"all-MiniLM-L6-v2\")"
      ],
      "metadata": {
        "id": "xrlyNq-rMOhK"
      },
      "execution_count": 70,
      "outputs": []
    },
    {
      "cell_type": "markdown",
      "source": [
        "Step 5: Storing the embedding in the vectorstore"
      ],
      "metadata": {
        "id": "BCh53A4_VBqA"
      }
    },
    {
      "cell_type": "code",
      "source": [
        "vectorstore= Chroma.from_documents(texts,embeddings)"
      ],
      "metadata": {
        "id": "tF04X_6tMtn2"
      },
      "execution_count": 83,
      "outputs": []
    },
    {
      "cell_type": "markdown",
      "source": [
        "Step 6: Integrating the open source llm"
      ],
      "metadata": {
        "id": "er4rdPLhdYSy"
      }
    },
    {
      "cell_type": "code",
      "source": [
        "from google.colab import userdata\n",
        "hg_token=userdata.get('Huggingface')"
      ],
      "metadata": {
        "id": "uHIncrzWPCdG"
      },
      "execution_count": 85,
      "outputs": []
    },
    {
      "cell_type": "code",
      "source": [
        "model='tiiuae/falcon-7b-instruct'\n",
        "llm=HuggingFaceHub(huggingfacehub_api_token=hg_token, repo_id=model, model_kwargs={\"temperature\":0.3, \"max_new_token\":2000})"
      ],
      "metadata": {
        "colab": {
          "base_uri": "https://localhost:8080/"
        },
        "id": "504IQyHbM-j1",
        "outputId": "d0af62bf-522f-47c2-fc64-b876615e6fcd"
      },
      "execution_count": 180,
      "outputs": [
        {
          "output_type": "stream",
          "name": "stderr",
          "text": [
            "/usr/local/lib/python3.10/dist-packages/huggingface_hub/utils/_deprecation.py:131: FutureWarning: 'InferenceApi' (from 'huggingface_hub.inference_api') is deprecated and will be removed from version '1.0'. `InferenceApi` client is deprecated in favor of the more feature-complete `InferenceClient`. Check out this guide to learn how to convert your script to use it: https://huggingface.co/docs/huggingface_hub/guides/inference#legacy-inferenceapi-client.\n",
            "  warnings.warn(warning_message, FutureWarning)\n"
          ]
        }
      ]
    },
    {
      "cell_type": "markdown",
      "source": [
        "Step 7: Perform similarity search in vectorstore for contextual resemblance"
      ],
      "metadata": {
        "id": "oT7z3LMDkacw"
      }
    },
    {
      "cell_type": "code",
      "source": [
        "#docs=vectorstore.similarity_search(query, k=7)"
      ],
      "metadata": {
        "id": "FDkU5tVykbMv"
      },
      "execution_count": 181,
      "outputs": []
    },
    {
      "cell_type": "markdown",
      "source": [
        " Step 8: Creating a q&a chain using langchain"
      ],
      "metadata": {
        "id": "BGPxIYkfdnAr"
      }
    },
    {
      "cell_type": "code",
      "source": [
        "chain=load_qa_chain(llm=llm, chain_type=\"stuff\")"
      ],
      "metadata": {
        "id": "v0-k9ZK4bAW_"
      },
      "execution_count": 182,
      "outputs": []
    },
    {
      "cell_type": "markdown",
      "source": [
        "Testing:"
      ],
      "metadata": {
        "id": "ySf1x_8BcJVb"
      }
    },
    {
      "cell_type": "code",
      "source": [
        "samples = [\n",
        "    \"What are the key regulations affecting insurance companies in Canada?\",\n",
        "    \"How has technology impacted the insurance industry?\",\n",
        "    \"How many life insurance companies were in 1985 in Canada?\",\n",
        "    \"What policy issues are addressed in the section on industrial development, and how do they impact the insurance industry?\"\n",
        "]\n",
        "\n",
        "for question in samples:\n",
        "    # Perform similarity search and run the question-answering chain\n",
        "    docs = vectorstore.similarity_search(question, k=7)\n",
        "    result = chain.run(input_documents=docs, question=question)\n",
        "    # Evaluate and document results\n",
        "    print(f\"Question: {question}\")\n",
        "    print(f\"Answer: {result}\")\n",
        "    print(\"\\n---\\n\")\n"
      ],
      "metadata": {
        "colab": {
          "base_uri": "https://localhost:8080/"
        },
        "id": "zYr4cC5Lni2P",
        "outputId": "aa61a5d9-db74-46b9-f038-8bdac1fc5afe"
      },
      "execution_count": 186,
      "outputs": [
        {
          "output_type": "stream",
          "name": "stdout",
          "text": [
            "Question: What are the key regulations affecting insurance companies in Canada?\n",
            "Answer:  The key regulations affecting insurance companies in Canada are:\n",
            "- Financial Services Act\n",
            "- Insurance Companies Act\n",
            "- Life Insurance Act\n",
            "- Health and Disability Insurance Act\n",
            "- Motor Vehicle Act\n",
            "- Financial Services Act\n",
            "- Competition Act\n",
            "- Consumer Protection Act\n",
            "- Privacy Act\n",
            "- Canadian Human Rights Act\n",
            "- Canadian Environmental Protection Act\n",
            "- Canada Labour Code\n",
            "- Canadian Pension Plan Act\n",
            "- Canada Health Act\n",
            "- Canada Education Savings Plan Act\n",
            "- Canada Retirement Savings Plan Act\n",
            "- Canada\n",
            "\n",
            "---\n",
            "\n",
            "Question: How has technology impacted the insurance industry?\n",
            "Answer:  Technology has had a significant impact on the insurance industry. It has enabled insurers to streamline their operations and reduce their costs, as well as to offer new products and services to their customers. Technology has also enabled insurers to better manage their risk and to better identify and target customers who are more likely to have claims. Additionally, technology has enabled insurers to better market their products and services to customers. Overall, technology has been a driving force behind the growth and success of the insurance industry.\n",
            "\n",
            "---\n",
            "\n",
            "Question: How many life insurance companies were in 1985 in Canada?\n",
            "Answer:  167.\n",
            "\n",
            "---\n",
            "\n",
            "Question: What policy issues are addressed in the section on industrial development, and how do they impact the insurance industry?\n",
            "Answer:  The section on industrial development addresses issues related to the efficiency of the insurance industry, including the effects of regulation and taxation policies on the industry. These issues impact the insurance industry by affecting the scope and profitability of the industry.\n",
            "\n",
            "---\n",
            "\n"
          ]
        }
      ]
    },
    {
      "cell_type": "code",
      "source": [],
      "metadata": {
        "id": "IfjEFxRDhQ6o"
      },
      "execution_count": null,
      "outputs": []
    }
  ]
}
